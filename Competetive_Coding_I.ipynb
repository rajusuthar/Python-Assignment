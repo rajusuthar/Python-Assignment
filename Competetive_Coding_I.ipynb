{
  "nbformat": 4,
  "nbformat_minor": 0,
  "metadata": {
    "colab": {
      "name": "Competetive Coding I.ipynb",
      "provenance": [],
      "include_colab_link": true
    },
    "kernelspec": {
      "name": "python3",
      "display_name": "Python 3"
    }
  },
  "cells": [
    {
      "cell_type": "markdown",
      "metadata": {
        "id": "view-in-github",
        "colab_type": "text"
      },
      "source": [
        "<a href=\"https://colab.research.google.com/github/rajusuthar/Python-Assignment/blob/main/Competetive_Coding_I.ipynb\" target=\"_parent\"><img src=\"https://colab.research.google.com/assets/colab-badge.svg\" alt=\"Open In Colab\"/></a>"
      ]
    },
    {
      "cell_type": "markdown",
      "metadata": {
        "id": "XA-b8BLzYrbe"
      },
      "source": [
        "\n",
        "# Time : 1 hour\n",
        "\n",
        "# Problem Statement"
      ]
    },
    {
      "cell_type": "markdown",
      "metadata": {
        "id": "soIV-F7Wcbp3"
      },
      "source": [
        "### A student is taking a cryptography class and has found anagrams to be very useful. Two strings are anagrams of each other if the first string's letters can be rearranged to form the second string. In other words, both strings must contain the same exact letters in the same exact frequency. For example, bacdc and dcbac are anagrams, but bacdc and dcbad are not.\n",
        "\n",
        "### The student decides on an encryption scheme that involves two large strings. The encryption is dependent on the minimum number of character deletions required to make the two strings anagrams. You need to determine this number.\n",
        "\n",
        "### Given two strings, $a$ and $b$, that may or may not be of the same length, determine the minimum number of character deletions required to make $a$ and $b$ anagrams. Any characters can be deleted from either of the strings. The strings $a$ and $b$ consist of lowercase English alphabets."
      ]
    },
    {
      "cell_type": "markdown",
      "metadata": {
        "id": "TS0zgz0PcfYz"
      },
      "source": [
        "**Example**\n",
        "\n",
        "<code>a = 'cde'</code>\n",
        "\n",
        "<code>b = 'dcf' </code>"
      ]
    },
    {
      "cell_type": "markdown",
      "metadata": {
        "id": "kxZ3mdXsckZm"
      },
      "source": [
        "### Delete $e$ from $a$ and $f$ from $b$ so that the remaining strings are $cd$ and $dc$ which are anagrams. This takes 2 character deletions."
      ]
    },
    {
      "cell_type": "markdown",
      "metadata": {
        "id": "1QlkSP3KcozS"
      },
      "source": [
        "## **Function Description**\n",
        "\n",
        "### Create a <code>makeAnagram</code> function below.\n",
        "\n",
        "### **Inputs:**\n",
        "\n",
        "### string a: a string\n",
        "\n",
        "### string b: another string\n",
        "\n",
        "### **Output:**\n",
        "\n",
        "### int: the minimum total characters that must be deleted"
      ]
    },
    {
      "cell_type": "markdown",
      "metadata": {
        "id": "-woYEa44Z-Cf"
      },
      "source": [
        "# Solution"
      ]
    },
    {
      "cell_type": "code",
      "metadata": {
        "id": "sJ6O2MtIZ9dP"
      },
      "source": [
        "string1=''\n",
        "string2='dfgjdgnerjgernjifsdnjsdjk'"
      ],
      "execution_count": 7,
      "outputs": []
    },
    {
      "cell_type": "code",
      "source": [
        "string1_count_dict={}\n",
        "for char in string1:\n",
        "  string1_count_dict[char]=string1.count(char)"
      ],
      "metadata": {
        "id": "alcwgJWSOae6"
      },
      "execution_count": 8,
      "outputs": []
    },
    {
      "cell_type": "code",
      "source": [
        "string2_count_dict={}\n",
        "for char in string2:\n",
        "  string2_count_dict[char]=string2.count(char)"
      ],
      "metadata": {
        "id": "sVK-CxAEOvmF"
      },
      "execution_count": 9,
      "outputs": []
    },
    {
      "cell_type": "code",
      "source": [
        "print(string1_count_dict)\n",
        "print(string2_count_dict)"
      ],
      "metadata": {
        "id": "pKgXax-_RwrJ",
        "outputId": "34da6a0b-c506-4359-9348-8189080b0895",
        "colab": {
          "base_uri": "https://localhost:8080/"
        }
      },
      "execution_count": 10,
      "outputs": [
        {
          "output_type": "stream",
          "name": "stdout",
          "text": [
            "{}\n",
            "{'d': 4, 'f': 2, 'g': 3, 'j': 5, 'n': 3, 'e': 2, 'r': 2, 'i': 1, 's': 2, 'k': 1}\n"
          ]
        }
      ]
    },
    {
      "cell_type": "code",
      "source": [
        "def anagram(string1,string2):\n",
        "  string1_count_dict={}\n",
        "  for char in string1:\n",
        "    string1_count_dict[char]=string1.count(char)\n",
        "  string2_count_dict={}\n",
        "  for char in string2:\n",
        "    string2_count_dict[char]=string2.count(char)\n",
        "\n",
        "  if len(string1)>len(string2):\n",
        "    from sys import modules\n",
        "    import math\n",
        "    diff_list=[]\n",
        "    for key,value in string1_count_dict.items():\n",
        "      if key in string2_count_dict.keys():\n",
        "        if string2_count_dict[key]==value:\n",
        "          print('')\n",
        "        else:\n",
        "          diff_list.append(abs(string2_count_dict[key]-value))\n",
        "      else:\n",
        "        diff_list.append(1)\n",
        "  elif len(string1)== 0 or len(string2)==0:\n",
        "    if len(string1)==0:\n",
        "      diff_list=list(string2_count_dict.values())\n",
        "    else:\n",
        "      diff_list=list(string1_count_dict.values())\n",
        "\n",
        "  else:\n",
        "    from sys import modules\n",
        "    import math\n",
        "    diff_list=[]\n",
        "    for key,value in string2_count_dict.items():\n",
        "      if key in string1_count_dict.keys():\n",
        "        if string1_count_dict[key]==value:\n",
        "          print('')\n",
        "        else:\n",
        "          diff_list.append(abs(string1_count_dict[key]-value))\n",
        "      else:\n",
        "        diff_list.append(1)\n",
        "  return sum(diff_list)\n",
        "\n"
      ],
      "metadata": {
        "id": "tYpnyqLbNH1Z"
      },
      "execution_count": 11,
      "outputs": []
    },
    {
      "cell_type": "code",
      "source": [
        "anagram('abcccccccccc','abccccc')"
      ],
      "metadata": {
        "id": "C1TugCBN4ELs",
        "outputId": "02c7b9b7-de14-469c-e8e4-3b66d23771fb",
        "colab": {
          "base_uri": "https://localhost:8080/"
        }
      },
      "execution_count": 13,
      "outputs": [
        {
          "output_type": "stream",
          "name": "stdout",
          "text": [
            "\n",
            "\n"
          ]
        },
        {
          "output_type": "execute_result",
          "data": {
            "text/plain": [
              "5"
            ]
          },
          "metadata": {},
          "execution_count": 13
        }
      ]
    },
    {
      "cell_type": "code",
      "source": [
        "anagram('abcde','abcde')"
      ],
      "metadata": {
        "id": "H0-aqXNt4QtJ",
        "outputId": "151fa323-7878-4528-ab88-928c75b3c9ba",
        "colab": {
          "base_uri": "https://localhost:8080/"
        }
      },
      "execution_count": 14,
      "outputs": [
        {
          "output_type": "stream",
          "name": "stdout",
          "text": [
            "\n",
            "\n",
            "\n",
            "\n",
            "\n"
          ]
        },
        {
          "output_type": "execute_result",
          "data": {
            "text/plain": [
              "0"
            ]
          },
          "metadata": {},
          "execution_count": 14
        }
      ]
    },
    {
      "cell_type": "code",
      "source": [
        "anagram(string1,string2)"
      ],
      "metadata": {
        "id": "SLb-kMbzQs44",
        "outputId": "0d93b30b-3636-41a1-914a-bfc043bf3b1f",
        "colab": {
          "base_uri": "https://localhost:8080/"
        }
      },
      "execution_count": 12,
      "outputs": [
        {
          "output_type": "execute_result",
          "data": {
            "text/plain": [
              "25"
            ]
          },
          "metadata": {},
          "execution_count": 12
        }
      ]
    },
    {
      "cell_type": "code",
      "source": [],
      "metadata": {
        "id": "tvTQCnpVR-ma"
      },
      "execution_count": null,
      "outputs": []
    }
  ]
}